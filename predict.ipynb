{
 "cells": [
  {
   "cell_type": "code",
   "execution_count": 1,
   "metadata": {},
   "outputs": [],
   "source": [
    "import os\n",
    "import cv2\n",
    "import numpy as np\n",
    "from tensorflow.keras.models import model_from_json\n",
    "from tensorflow.keras.preprocessing import image"
   ]
  },
  {
   "cell_type": "code",
   "execution_count": null,
   "metadata": {},
   "outputs": [],
   "source": []
  },
  {
   "cell_type": "code",
   "execution_count": 2,
   "metadata": {},
   "outputs": [],
   "source": [
    "## load model\n",
    "model=model_from_json(open('fer.json','r').read())"
   ]
  },
  {
   "cell_type": "code",
   "execution_count": 3,
   "metadata": {},
   "outputs": [],
   "source": [
    "model.load_weights('fer.h5')"
   ]
  },
  {
   "cell_type": "code",
   "execution_count": 4,
   "metadata": {},
   "outputs": [],
   "source": [
    "face_har_cascade=cv2.CascadeClassifier('haarcascade_frontalface_default.xml')"
   ]
  },
  {
   "cell_type": "code",
   "execution_count": null,
   "metadata": {},
   "outputs": [],
   "source": []
  },
  {
   "cell_type": "code",
   "execution_count": 5,
   "metadata": {},
   "outputs": [],
   "source": [
    "cap=cv2.VideoCapture(0)"
   ]
  },
  {
   "cell_type": "code",
   "execution_count": 6,
   "metadata": {},
   "outputs": [],
   "source": [
    "while True:\n",
    "    ret,imag=cap.read()\n",
    "    \n",
    "    if ret:\n",
    "        gray_image=cv2.cvtColor(imag,cv2.COLOR_BGR2GRAY)\n",
    "        face_detected=face_har_cascade.detectMultiScale(gray_image,1.32,5)\n",
    "        \n",
    "        for (x,y,w,h) in face_detected:\n",
    "            cv2.rectangle(imag,(x,y),(x+w,y+h),(0,0,0),thickness=5)\n",
    "            sel_image=gray_image[y:y+h,x:x+w]\n",
    "            reshape_sel=cv2.resize(sel_image,(48,48))\n",
    "            img_pixel=image.img_to_array(reshape_sel)\n",
    "            \n",
    "            img=np.expand_dims(img_pixel,axis=0)\n",
    "            img/=255\n",
    "            prediction=model.predict(img)\n",
    "            \n",
    "            max_index=np.argmax(prediction[0])\n",
    "            \n",
    "            emotions=('Angry','Disgust','Fear','Happy','Sad','Suprise','Neutral')\n",
    "            prediction_emotion=emotions[max_index]\n",
    "            \n",
    "            cv2.putText(imag,prediction_emotion,(int(x),int(y)),cv2.FONT_HERSHEY_SIMPLEX,1,(0,0,105),2)\n",
    "            \n",
    "        #resized_image=cv2.resize(imag,(1000,700))\n",
    "        cv2.imshow(\"Facial emotion analysis\",imag)\n",
    "           \n",
    "    key=cv2.waitKey(1)\n",
    "    if key==ord('q'):\n",
    "        break\n",
    "            \n",
    "cap.release()\n",
    "cv2.destroyAllWindows()"
   ]
  },
  {
   "cell_type": "code",
   "execution_count": null,
   "metadata": {},
   "outputs": [],
   "source": []
  }
 ],
 "metadata": {
  "kernelspec": {
   "display_name": "Python 3",
   "language": "python",
   "name": "python3"
  },
  "language_info": {
   "codemirror_mode": {
    "name": "ipython",
    "version": 3
   },
   "file_extension": ".py",
   "mimetype": "text/x-python",
   "name": "python",
   "nbconvert_exporter": "python",
   "pygments_lexer": "ipython3",
   "version": "3.7.7"
  }
 },
 "nbformat": 4,
 "nbformat_minor": 4
}
