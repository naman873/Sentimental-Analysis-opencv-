{
 "cells": [
  {
   "cell_type": "code",
   "execution_count": 1,
   "metadata": {},
   "outputs": [],
   "source": [
    "import numpy as np\n",
    "import pandas as pd\n",
    "from tensorflow.keras.models import Model,Sequential\n",
    "from tensorflow.keras.layers import Layer,MaxPool2D,Dense,Input,Flatten,Conv2D,Dropout\n",
    "from tensorflow.keras.utils import to_categorical\n",
    "import cv2"
   ]
  },
  {
   "cell_type": "code",
   "execution_count": null,
   "metadata": {},
   "outputs": [],
   "source": []
  },
  {
   "cell_type": "code",
   "execution_count": 4,
   "metadata": {},
   "outputs": [],
   "source": [
    "data=pd.read_csv(\"../../Downloads/icml_face_data.csv\")"
   ]
  },
  {
   "cell_type": "code",
   "execution_count": 5,
   "metadata": {},
   "outputs": [],
   "source": [
    "data=pd.DataFrame(data)"
   ]
  },
  {
   "cell_type": "code",
   "execution_count": 6,
   "metadata": {},
   "outputs": [
    {
     "data": {
      "text/plain": [
       "array(['Training', 'PublicTest', 'PrivateTest'], dtype=object)"
      ]
     },
     "execution_count": 6,
     "metadata": {},
     "output_type": "execute_result"
    }
   ],
   "source": [
    "data.iloc[:,1].unique()"
   ]
  },
  {
   "cell_type": "code",
   "execution_count": 7,
   "metadata": {},
   "outputs": [
    {
     "data": {
      "text/html": [
       "<div>\n",
       "<style scoped>\n",
       "    .dataframe tbody tr th:only-of-type {\n",
       "        vertical-align: middle;\n",
       "    }\n",
       "\n",
       "    .dataframe tbody tr th {\n",
       "        vertical-align: top;\n",
       "    }\n",
       "\n",
       "    .dataframe thead th {\n",
       "        text-align: right;\n",
       "    }\n",
       "</style>\n",
       "<table border=\"1\" class=\"dataframe\">\n",
       "  <thead>\n",
       "    <tr style=\"text-align: right;\">\n",
       "      <th></th>\n",
       "      <th>emotion</th>\n",
       "      <th>Usage</th>\n",
       "      <th>pixels</th>\n",
       "    </tr>\n",
       "  </thead>\n",
       "  <tbody>\n",
       "    <tr>\n",
       "      <th>0</th>\n",
       "      <td>0</td>\n",
       "      <td>Training</td>\n",
       "      <td>70 80 82 72 58 58 60 63 54 58 60 48 89 115 121...</td>\n",
       "    </tr>\n",
       "    <tr>\n",
       "      <th>1</th>\n",
       "      <td>0</td>\n",
       "      <td>Training</td>\n",
       "      <td>151 150 147 155 148 133 111 140 170 174 182 15...</td>\n",
       "    </tr>\n",
       "    <tr>\n",
       "      <th>2</th>\n",
       "      <td>2</td>\n",
       "      <td>Training</td>\n",
       "      <td>231 212 156 164 174 138 161 173 182 200 106 38...</td>\n",
       "    </tr>\n",
       "    <tr>\n",
       "      <th>3</th>\n",
       "      <td>4</td>\n",
       "      <td>Training</td>\n",
       "      <td>24 32 36 30 32 23 19 20 30 41 21 22 32 34 21 1...</td>\n",
       "    </tr>\n",
       "    <tr>\n",
       "      <th>4</th>\n",
       "      <td>6</td>\n",
       "      <td>Training</td>\n",
       "      <td>4 0 0 0 0 0 0 0 0 0 0 0 3 15 23 28 48 50 58 84...</td>\n",
       "    </tr>\n",
       "  </tbody>\n",
       "</table>\n",
       "</div>"
      ],
      "text/plain": [
       "   emotion     Usage                                             pixels\n",
       "0        0  Training  70 80 82 72 58 58 60 63 54 58 60 48 89 115 121...\n",
       "1        0  Training  151 150 147 155 148 133 111 140 170 174 182 15...\n",
       "2        2  Training  231 212 156 164 174 138 161 173 182 200 106 38...\n",
       "3        4  Training  24 32 36 30 32 23 19 20 30 41 21 22 32 34 21 1...\n",
       "4        6  Training  4 0 0 0 0 0 0 0 0 0 0 0 3 15 23 28 48 50 58 84..."
      ]
     },
     "execution_count": 7,
     "metadata": {},
     "output_type": "execute_result"
    }
   ],
   "source": [
    "data.head()"
   ]
  },
  {
   "cell_type": "code",
   "execution_count": 8,
   "metadata": {},
   "outputs": [],
   "source": [
    "data.rename(columns={' Usage':'Usage',' emotion':'emotion',' pixels':'pixels'},inplace=True)"
   ]
  },
  {
   "cell_type": "code",
   "execution_count": null,
   "metadata": {},
   "outputs": [],
   "source": []
  },
  {
   "cell_type": "code",
   "execution_count": 7,
   "metadata": {},
   "outputs": [],
   "source": [
    "#final_D_test=data.loc[data[\"Usage\"]=='PublicTest']\n",
    "#final_D_train=data.loc[data['Usage']=='Training']"
   ]
  },
  {
   "cell_type": "code",
   "execution_count": 8,
   "metadata": {},
   "outputs": [],
   "source": [
    "#final_D_train['Usage'].unique()"
   ]
  },
  {
   "cell_type": "code",
   "execution_count": 9,
   "metadata": {},
   "outputs": [],
   "source": [
    "#final_D_test['Usage'].unique()"
   ]
  },
  {
   "cell_type": "code",
   "execution_count": 10,
   "metadata": {},
   "outputs": [],
   "source": [
    "x_trian,y_trian,x_test,y_test=[],[],[],[]"
   ]
  },
  {
   "cell_type": "code",
   "execution_count": 11,
   "metadata": {},
   "outputs": [],
   "source": [
    "for index,row in data.iterrows():\n",
    "    val=row['pixels'].split(' ')\n",
    "    \n",
    "    if 'Training' in row['Usage']:\n",
    "        x_trian.append(np.array(val,'float32'))  ### each element dtype it is float32 \n",
    "        y_trian.append(row['emotion'])\n",
    "    elif 'PublicTest' in row['Usage']:\n",
    "        x_test.append(np.array(val,'float32'))\n",
    "        y_test.append(row['emotion'])"
   ]
  },
  {
   "cell_type": "code",
   "execution_count": null,
   "metadata": {},
   "outputs": [],
   "source": []
  },
  {
   "cell_type": "code",
   "execution_count": null,
   "metadata": {},
   "outputs": [],
   "source": []
  },
  {
   "cell_type": "code",
   "execution_count": 15,
   "metadata": {},
   "outputs": [],
   "source": [
    "#a=data['pixels'][0]\n",
    "#a=a.split(' ')\n",
    "#a=np.array(a,'float32')\n",
    "#a"
   ]
  },
  {
   "cell_type": "code",
   "execution_count": 16,
   "metadata": {},
   "outputs": [],
   "source": [
    "#a=np.array(a)\n",
    "#a"
   ]
  },
  {
   "cell_type": "code",
   "execution_count": 13,
   "metadata": {},
   "outputs": [
    {
     "data": {
      "text/plain": [
       "array([ 70.,  80.,  82., ..., 106., 109.,  82.], dtype=float32)"
      ]
     },
     "execution_count": 13,
     "metadata": {},
     "output_type": "execute_result"
    }
   ],
   "source": []
  },
  {
   "cell_type": "code",
   "execution_count": 13,
   "metadata": {},
   "outputs": [],
   "source": [
    "x_trian=np.array(x_trian,'float32')            #### whole train dtype varibale is converted to float32\n",
    "y_trian=np.array(y_trian,'float32')\n",
    "x_test=np.array(x_test,'float32')\n",
    "y_test=np.array(y_test,'float32')"
   ]
  },
  {
   "cell_type": "code",
   "execution_count": null,
   "metadata": {},
   "outputs": [],
   "source": []
  },
  {
   "cell_type": "code",
   "execution_count": 14,
   "metadata": {},
   "outputs": [],
   "source": [
    "## normalize our data between 0 to 1"
   ]
  },
  {
   "cell_type": "code",
   "execution_count": 15,
   "metadata": {},
   "outputs": [],
   "source": [
    "x_trian-=np.mean(x_trian,axis=0)\n",
    "x_trian/=np.std(x_trian,axis=0)"
   ]
  },
  {
   "cell_type": "code",
   "execution_count": 16,
   "metadata": {},
   "outputs": [],
   "source": [
    "#x_trian[0]"
   ]
  },
  {
   "cell_type": "code",
   "execution_count": 17,
   "metadata": {},
   "outputs": [],
   "source": [
    "x_test-=np.mean(x_test,axis=0)\n",
    "x_test/=np.std(x_test,axis=0)"
   ]
  },
  {
   "cell_type": "code",
   "execution_count": null,
   "metadata": {},
   "outputs": [],
   "source": []
  },
  {
   "cell_type": "code",
   "execution_count": 18,
   "metadata": {},
   "outputs": [],
   "source": [
    "num_features=64\n",
    "num_labels=7\n",
    "batch_size=64\n",
    "width=48\n",
    "height=48\n",
    "epochs=30"
   ]
  },
  {
   "cell_type": "code",
   "execution_count": null,
   "metadata": {},
   "outputs": [],
   "source": []
  },
  {
   "cell_type": "code",
   "execution_count": 19,
   "metadata": {},
   "outputs": [],
   "source": [
    "x_trian=x_trian.reshape(x_trian.shape[0],width,height,1)"
   ]
  },
  {
   "cell_type": "code",
   "execution_count": 20,
   "metadata": {},
   "outputs": [],
   "source": [
    "x_test=x_test.reshape(x_test.shape[0],width,height,1)"
   ]
  },
  {
   "cell_type": "code",
   "execution_count": 21,
   "metadata": {},
   "outputs": [],
   "source": [
    "y_trian=to_categorical(y_trian,num_classes=num_labels)\n",
    "y_test=to_categorical(y_test,num_classes=num_labels)"
   ]
  },
  {
   "cell_type": "code",
   "execution_count": null,
   "metadata": {},
   "outputs": [],
   "source": []
  },
  {
   "cell_type": "code",
   "execution_count": 22,
   "metadata": {},
   "outputs": [],
   "source": [
    "####Dropout is a technique where randomly selected neurons are ignored during training. \n",
    "###  They are “dropped-out” randomly"
   ]
  },
  {
   "cell_type": "code",
   "execution_count": null,
   "metadata": {},
   "outputs": [],
   "source": []
  },
  {
   "cell_type": "code",
   "execution_count": 23,
   "metadata": {},
   "outputs": [],
   "source": [
    "in_layer=Input(shape=(x_trian.shape[1:]))\n",
    "\n",
    "## 1 layer cnn layer\n",
    "\n",
    "convo1=Conv2D(num_features,kernel_size=(3,3),activation='relu')(in_layer)\n",
    "convo2=Conv2D(num_features,kernel_size=(3,3),activation='relu')(convo1)\n",
    "pool1=MaxPool2D(pool_size=(2,2),strides=(2,2))(convo2)\n",
    "drop1=Dropout(0.5)(pool1)  \n",
    "\n",
    "## 2 layer of cnn\n",
    "\n",
    "convo3=Conv2D(num_features,(3,3),activation='relu')(drop1)\n",
    "convo4=Conv2D(num_features,(3,3),activation='relu')(convo3)\n",
    "pool2=MaxPool2D(pool_size=(2,2),strides=(2,2))(convo4)\n",
    "drop2=Dropout(0.5)(pool2) \n",
    "\n",
    "## 3 layer of cnn\n",
    "\n",
    "convo5=Conv2D(2*num_features,(3,3),activation='relu')(drop2)\n",
    "convo6=Conv2D(2*num_features,(3,3),activation='relu')(convo5)\n",
    "pool3=MaxPool2D(pool_size=(2,2),strides=(2,2))(convo6)\n",
    " \n",
    "flat=Flatten()(pool3)\n",
    "\n",
    "d1=Dense(2*2*2*2*num_features,activation='relu')(flat)\n",
    "drop3=Dropout(0.2)(d1)\n",
    "d2=Dense(2*2*2*2*num_features,activation='relu')(drop3)\n",
    "drop4=Dropout(0.2)(d2)\n",
    "\n",
    "final=Dense(num_labels,activation='softmax')(drop4)"
   ]
  },
  {
   "cell_type": "code",
   "execution_count": 24,
   "metadata": {},
   "outputs": [],
   "source": [
    "model=Model(inputs=in_layer,outputs=final)"
   ]
  },
  {
   "cell_type": "code",
   "execution_count": 25,
   "metadata": {},
   "outputs": [],
   "source": [
    "model.compile(optimizer='adam',loss='categorical_crossentropy',metrics=['accuracy'])"
   ]
  },
  {
   "cell_type": "code",
   "execution_count": null,
   "metadata": {},
   "outputs": [],
   "source": []
  },
  {
   "cell_type": "code",
   "execution_count": 26,
   "metadata": {},
   "outputs": [
    {
     "name": "stdout",
     "output_type": "stream",
     "text": [
      "Epoch 1/30\n",
      "898/898 [==============================] - 364s 405ms/step - loss: 1.7268 - accuracy: 0.2934 - val_loss: 1.5640 - val_accuracy: 0.3918\n",
      "Epoch 2/30\n",
      "898/898 [==============================] - 343s 382ms/step - loss: 1.5210 - accuracy: 0.4021 - val_loss: 1.4049 - val_accuracy: 0.4583\n",
      "Epoch 3/30\n",
      "898/898 [==============================] - 343s 382ms/step - loss: 1.4262 - accuracy: 0.4464 - val_loss: 1.3417 - val_accuracy: 0.4829\n",
      "Epoch 4/30\n",
      "898/898 [==============================] - 343s 382ms/step - loss: 1.3737 - accuracy: 0.4683 - val_loss: 1.3179 - val_accuracy: 0.4879\n",
      "Epoch 5/30\n",
      "898/898 [==============================] - 344s 384ms/step - loss: 1.3311 - accuracy: 0.4863 - val_loss: 1.2908 - val_accuracy: 0.4946\n",
      "Epoch 6/30\n",
      "898/898 [==============================] - 348s 387ms/step - loss: 1.3041 - accuracy: 0.4999 - val_loss: 1.2604 - val_accuracy: 0.5099\n",
      "Epoch 7/30\n",
      "898/898 [==============================] - 344s 383ms/step - loss: 1.2786 - accuracy: 0.5074 - val_loss: 1.2365 - val_accuracy: 0.5213\n",
      "Epoch 8/30\n",
      "898/898 [==============================] - 459s 512ms/step - loss: 1.2530 - accuracy: 0.5188 - val_loss: 1.2098 - val_accuracy: 0.5383\n",
      "Epoch 9/30\n",
      "898/898 [==============================] - 545s 607ms/step - loss: 1.2368 - accuracy: 0.5260 - val_loss: 1.2228 - val_accuracy: 0.5403\n",
      "Epoch 10/30\n",
      "898/898 [==============================] - 548s 611ms/step - loss: 1.2212 - accuracy: 0.5317 - val_loss: 1.2205 - val_accuracy: 0.5272\n",
      "Epoch 11/30\n",
      "898/898 [==============================] - 548s 610ms/step - loss: 1.2097 - accuracy: 0.5346 - val_loss: 1.2155 - val_accuracy: 0.5397\n",
      "Epoch 12/30\n",
      "898/898 [==============================] - 549s 612ms/step - loss: 1.1965 - accuracy: 0.5389 - val_loss: 1.2051 - val_accuracy: 0.5369\n",
      "Epoch 13/30\n",
      "898/898 [==============================] - 480s 534ms/step - loss: 1.1804 - accuracy: 0.5497 - val_loss: 1.1892 - val_accuracy: 0.5419\n",
      "Epoch 14/30\n",
      "898/898 [==============================] - 350s 389ms/step - loss: 1.1804 - accuracy: 0.5463 - val_loss: 1.2237 - val_accuracy: 0.5258\n",
      "Epoch 15/30\n",
      "898/898 [==============================] - 346s 385ms/step - loss: 1.1622 - accuracy: 0.5554 - val_loss: 1.1937 - val_accuracy: 0.5475\n",
      "Epoch 16/30\n",
      "898/898 [==============================] - 352s 392ms/step - loss: 1.1519 - accuracy: 0.5567 - val_loss: 1.1850 - val_accuracy: 0.5489\n",
      "Epoch 17/30\n",
      "898/898 [==============================] - 361s 402ms/step - loss: 1.1469 - accuracy: 0.5579 - val_loss: 1.1851 - val_accuracy: 0.5461\n",
      "Epoch 18/30\n",
      "898/898 [==============================] - 361s 402ms/step - loss: 1.1231 - accuracy: 0.5715 - val_loss: 1.1854 - val_accuracy: 0.5430\n",
      "Epoch 19/30\n",
      "898/898 [==============================] - 361s 402ms/step - loss: 1.1239 - accuracy: 0.5721 - val_loss: 1.1892 - val_accuracy: 0.5481\n",
      "Epoch 20/30\n",
      "898/898 [==============================] - 362s 403ms/step - loss: 1.1159 - accuracy: 0.5701 - val_loss: 1.1778 - val_accuracy: 0.5517\n",
      "Epoch 21/30\n",
      "898/898 [==============================] - 363s 404ms/step - loss: 1.1048 - accuracy: 0.5747 - val_loss: 1.2019 - val_accuracy: 0.5417\n",
      "Epoch 22/30\n",
      "898/898 [==============================] - 388s 432ms/step - loss: 1.0954 - accuracy: 0.5804 - val_loss: 1.1778 - val_accuracy: 0.5600\n",
      "Epoch 23/30\n",
      "898/898 [==============================] - 527s 587ms/step - loss: 1.0889 - accuracy: 0.5823 - val_loss: 1.1935 - val_accuracy: 0.5464\n",
      "Epoch 24/30\n",
      "898/898 [==============================] - 571s 636ms/step - loss: 1.0855 - accuracy: 0.5837 - val_loss: 1.1870 - val_accuracy: 0.5567\n",
      "Epoch 25/30\n",
      "898/898 [==============================] - 564s 628ms/step - loss: 1.0790 - accuracy: 0.5870 - val_loss: 1.1812 - val_accuracy: 0.5481\n",
      "Epoch 26/30\n",
      "898/898 [==============================] - 564s 628ms/step - loss: 1.0689 - accuracy: 0.5906 - val_loss: 1.2062 - val_accuracy: 0.5403\n",
      "Epoch 27/30\n",
      "898/898 [==============================] - 507s 565ms/step - loss: 1.0582 - accuracy: 0.5929 - val_loss: 1.1683 - val_accuracy: 0.5500\n",
      "Epoch 28/30\n",
      "898/898 [==============================] - 385s 429ms/step - loss: 1.0520 - accuracy: 0.5983 - val_loss: 1.2016 - val_accuracy: 0.5508\n",
      "Epoch 29/30\n",
      "898/898 [==============================] - 384s 427ms/step - loss: 1.0453 - accuracy: 0.6015 - val_loss: 1.1982 - val_accuracy: 0.5486\n",
      "Epoch 30/30\n",
      "898/898 [==============================] - 434s 484ms/step - loss: 1.0358 - accuracy: 0.6050 - val_loss: 1.1722 - val_accuracy: 0.5620\n"
     ]
    },
    {
     "data": {
      "text/plain": [
       "<tensorflow.python.keras.callbacks.History at 0x1d4d052dc88>"
      ]
     },
     "execution_count": 26,
     "metadata": {},
     "output_type": "execute_result"
    }
   ],
   "source": [
    "model.fit(x_trian,y_trian,epochs=epochs,validation_data=(x_test,y_test),shuffle=True)"
   ]
  },
  {
   "cell_type": "code",
   "execution_count": null,
   "metadata": {},
   "outputs": [],
   "source": []
  },
  {
   "cell_type": "code",
   "execution_count": 28,
   "metadata": {},
   "outputs": [
    {
     "name": "stdout",
     "output_type": "stream",
     "text": [
      "Model: \"model\"\n",
      "_________________________________________________________________\n",
      "Layer (type)                 Output Shape              Param #   \n",
      "=================================================================\n",
      "input_1 (InputLayer)         [(None, 48, 48, 1)]       0         \n",
      "_________________________________________________________________\n",
      "conv2d (Conv2D)              (None, 46, 46, 64)        640       \n",
      "_________________________________________________________________\n",
      "conv2d_1 (Conv2D)            (None, 44, 44, 64)        36928     \n",
      "_________________________________________________________________\n",
      "max_pooling2d (MaxPooling2D) (None, 22, 22, 64)        0         \n",
      "_________________________________________________________________\n",
      "dropout (Dropout)            (None, 22, 22, 64)        0         \n",
      "_________________________________________________________________\n",
      "conv2d_2 (Conv2D)            (None, 20, 20, 64)        36928     \n",
      "_________________________________________________________________\n",
      "conv2d_3 (Conv2D)            (None, 18, 18, 64)        36928     \n",
      "_________________________________________________________________\n",
      "max_pooling2d_1 (MaxPooling2 (None, 9, 9, 64)          0         \n",
      "_________________________________________________________________\n",
      "dropout_1 (Dropout)          (None, 9, 9, 64)          0         \n",
      "_________________________________________________________________\n",
      "conv2d_4 (Conv2D)            (None, 7, 7, 128)         73856     \n",
      "_________________________________________________________________\n",
      "conv2d_5 (Conv2D)            (None, 5, 5, 128)         147584    \n",
      "_________________________________________________________________\n",
      "max_pooling2d_2 (MaxPooling2 (None, 2, 2, 128)         0         \n",
      "_________________________________________________________________\n",
      "flatten (Flatten)            (None, 512)               0         \n",
      "_________________________________________________________________\n",
      "dense (Dense)                (None, 1024)              525312    \n",
      "_________________________________________________________________\n",
      "dropout_2 (Dropout)          (None, 1024)              0         \n",
      "_________________________________________________________________\n",
      "dense_1 (Dense)              (None, 1024)              1049600   \n",
      "_________________________________________________________________\n",
      "dropout_3 (Dropout)          (None, 1024)              0         \n",
      "_________________________________________________________________\n",
      "dense_2 (Dense)              (None, 7)                 7175      \n",
      "=================================================================\n",
      "Total params: 1,914,951\n",
      "Trainable params: 1,914,951\n",
      "Non-trainable params: 0\n",
      "_________________________________________________________________\n"
     ]
    }
   ],
   "source": [
    "model.summary()"
   ]
  },
  {
   "cell_type": "code",
   "execution_count": null,
   "metadata": {},
   "outputs": [],
   "source": []
  },
  {
   "cell_type": "code",
   "execution_count": 30,
   "metadata": {},
   "outputs": [],
   "source": [
    "fer_json=model.to_json()"
   ]
  },
  {
   "cell_type": "code",
   "execution_count": 31,
   "metadata": {},
   "outputs": [],
   "source": [
    "with open(\"fer.json\",\"w\") as json_file:\n",
    "    json_file.write(fer_json)"
   ]
  },
  {
   "cell_type": "code",
   "execution_count": 32,
   "metadata": {},
   "outputs": [],
   "source": [
    "model.save_weights(\"fer.h5\")  ## save weight in h5 format"
   ]
  },
  {
   "cell_type": "code",
   "execution_count": null,
   "metadata": {},
   "outputs": [],
   "source": []
  },
  {
   "cell_type": "code",
   "execution_count": null,
   "metadata": {},
   "outputs": [],
   "source": []
  },
  {
   "cell_type": "code",
   "execution_count": null,
   "metadata": {},
   "outputs": [],
   "source": []
  },
  {
   "cell_type": "code",
   "execution_count": null,
   "metadata": {},
   "outputs": [],
   "source": []
  },
  {
   "cell_type": "code",
   "execution_count": null,
   "metadata": {},
   "outputs": [],
   "source": []
  },
  {
   "cell_type": "code",
   "execution_count": 27,
   "metadata": {},
   "outputs": [],
   "source": [
    "#### yt model train"
   ]
  },
  {
   "cell_type": "markdown",
   "metadata": {},
   "source": [
    "model=Sequential()"
   ]
  },
  {
   "cell_type": "markdown",
   "metadata": {},
   "source": [
    "## 1 layer of cnn\n",
    "\n",
    "model.add(Conv2D(num_features,kernel_size=(3,3),activation='relu',input_shape=x_trian.shape[1:]))\n",
    "model.add(Conv2D(num_features,kernel_size=(3,3),activation='relu'))\n",
    "model.add(MaxPool2D(pool_size=(2,2),strides=(2,2)))\n",
    "model.add(Dropout(0.5))\n",
    "\n",
    "## 2 layer of cnn\n",
    "\n",
    "model.add(Conv2D(num_features,(3,3),activation='relu'))\n",
    "model.add(Conv2D(num_features,(3,3),activation='relu'))\n",
    "model.add(MaxPool2D(pool_size=(2,2),strides=(2,2)))\n",
    "model.add(Dropout(0.5))\n",
    "\n",
    "## 3 layer of cnn\n",
    "model.add(Conv2D(2*num_features,(3,3),activation='relu'))\n",
    "model.add(Conv2D(2*num_features,(3,3),activation='relu'))\n",
    "model.add(MaxPool2D(pool_size=(2,2),strides=(2,2)))\n",
    "model.add(Dropout(0.5))         \n",
    "\n",
    "model.add(Flatten())\n",
    "          \n",
    "model.add(Dense(2*2*2*2*num_features,activation='relu'))\n",
    "model.add(Dropout(0.2))\n",
    "          \n",
    "model.add(Dense(2*2*2*2*num_features,activation='relu'))\n",
    "model.add(Dropout(0.2))\n",
    "    \n",
    "model.add(Dense(7,activation='softmax'))"
   ]
  },
  {
   "cell_type": "code",
   "execution_count": null,
   "metadata": {},
   "outputs": [],
   "source": []
  },
  {
   "cell_type": "code",
   "execution_count": null,
   "metadata": {},
   "outputs": [],
   "source": []
  },
  {
   "cell_type": "code",
   "execution_count": null,
   "metadata": {},
   "outputs": [],
   "source": []
  }
 ],
 "metadata": {
  "kernelspec": {
   "display_name": "Python 3",
   "language": "python",
   "name": "python3"
  },
  "language_info": {
   "codemirror_mode": {
    "name": "ipython",
    "version": 3
   },
   "file_extension": ".py",
   "mimetype": "text/x-python",
   "name": "python",
   "nbconvert_exporter": "python",
   "pygments_lexer": "ipython3",
   "version": "3.7.7"
  }
 },
 "nbformat": 4,
 "nbformat_minor": 4
}
